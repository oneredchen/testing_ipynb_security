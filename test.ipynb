{
 "cells": [
  {
   "attachments": {},
   "cell_type": "markdown",
   "metadata": {},
   "source": [
    "## Test 1: Hard Code Creds into a Variable (Don't do it) ##"
   ]
  },
  {
   "cell_type": "code",
   "execution_count": 5,
   "metadata": {},
   "outputs": [
    {
     "name": "stdout",
     "output_type": "stream",
     "text": [
      "Joanna is 30 years old\n"
     ]
    }
   ],
   "source": [
    "myPassword = \"password\"\n",
    "if myPassword:\n",
    "    print(f\"Joanna is {20+10} years old\")"
   ]
  },
  {
   "attachments": {},
   "cell_type": "markdown",
   "metadata": {},
   "source": [
    "## Test 2: Using GetPass method to get Creds ##"
   ]
  },
  {
   "cell_type": "code",
   "execution_count": 7,
   "metadata": {},
   "outputs": [
    {
     "name": "stdout",
     "output_type": "stream",
     "text": [
      "The truth is, Joanna is really 40 years old\n"
     ]
    }
   ],
   "source": [
    "import getpass\n",
    "\n",
    "myPassword_2 = getpass.getpass()\n",
    "if myPassword_2:\n",
    "    print(f\"The truth is, Joanna is really {20+20} years old\")"
   ]
  },
  {
   "attachments": {},
   "cell_type": "markdown",
   "metadata": {},
   "source": [
    "## Test 3: Using .DotEnv to get Creds ##"
   ]
  },
  {
   "cell_type": "code",
   "execution_count": 20,
   "metadata": {},
   "outputs": [
    {
     "name": "stdout",
     "output_type": "stream",
     "text": [
      "Haiya, Joannaa ah Joanna\n"
     ]
    }
   ],
   "source": [
    "#Will require an external dotenv package\n",
    "#pip install python-dotenv\n",
    "#If using this method, please please please remember to add your .env to your .gitignore file to prevent it from being uploaded to Github   \n",
    "from dotenv import load_dotenv\n",
    "import os\n",
    "load_dotenv()\n",
    "\n",
    "if (os.getenv('PASSWORD')):\n",
    "    print(\"Haiya, Joannaa ah Joanna\")\n",
    "else:\n",
    "    print(\"Clearly you don't have my dotenv file duh so it fails la\")"
   ]
  }
 ],
 "metadata": {
  "kernelspec": {
   "display_name": "venv",
   "language": "python",
   "name": "python3"
  },
  "language_info": {
   "codemirror_mode": {
    "name": "ipython",
    "version": 3
   },
   "file_extension": ".py",
   "mimetype": "text/x-python",
   "name": "python",
   "nbconvert_exporter": "python",
   "pygments_lexer": "ipython3",
   "version": "3.10.1"
  },
  "orig_nbformat": 4,
  "vscode": {
   "interpreter": {
    "hash": "7b97955e55642849b516667d218773eaa87443e459a0c961ca5ed2ba1f212cf0"
   }
  }
 },
 "nbformat": 4,
 "nbformat_minor": 2
}
